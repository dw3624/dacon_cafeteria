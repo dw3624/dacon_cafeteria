{
 "cells": [
  {
   "cell_type": "code",
   "execution_count": 1,
   "id": "0cbb2208",
   "metadata": {},
   "outputs": [],
   "source": [
    "import pandas as pd\n",
    "import numpy as np\n",
    "import matplotlib\n",
    "import matplotlib.pyplot as plt\n",
    "%matplotlib inline\n",
    "plt.rc('font', family='NanumGothic')\n",
    "matplotlib.rcParams['axes.unicode_minus'] = False   # 마이너스 부호 깨짐"
   ]
  },
  {
   "cell_type": "markdown",
   "id": "5ab0fc6b",
   "metadata": {},
   "source": [
    "# 1. 데이터 가져오기"
   ]
  },
  {
   "cell_type": "code",
   "execution_count": 2,
   "id": "b1d378a4",
   "metadata": {},
   "outputs": [],
   "source": [
    "train_ln = pd.read_csv('./data/train_ln.csv',parse_dates=['ymd'])\n",
    "train_dn = pd.read_csv('./data/train_dn.csv',parse_dates=['ymd'])\n",
    "test_ln = pd.read_csv('./data/test_ln.csv',parse_dates=['ymd'])\n",
    "test_dn = pd.read_csv('./data/test_dn.csv',parse_dates=['ymd'])"
   ]
  },
  {
   "cell_type": "code",
   "execution_count": 83,
   "id": "a8755ce8",
   "metadata": {},
   "outputs": [],
   "source": [
    "sub = pd.read_csv('./data/original/sample_submission.csv')"
   ]
  },
  {
   "cell_type": "code",
   "execution_count": 3,
   "id": "a9271d06",
   "metadata": {},
   "outputs": [
    {
     "name": "stdout",
     "output_type": "stream",
     "text": [
      "train_ln.shape:  (1205, 17)\n",
      "train_dn.shape:  (1163, 16)\n",
      "test_ln.shape:  (50, 16)\n",
      "test_dn.shape:  (50, 15)\n"
     ]
    }
   ],
   "source": [
    "print('train_ln.shape: ',train_ln.shape)\n",
    "print('train_dn.shape: ',train_dn.shape)\n",
    "print('test_ln.shape: ',test_ln.shape)\n",
    "print('test_dn.shape: ',test_dn.shape)"
   ]
  },
  {
   "cell_type": "code",
   "execution_count": 4,
   "id": "38727439",
   "metadata": {},
   "outputs": [],
   "source": [
    "train_ln['ln_prop'] = train_ln.ln / train_ln.atoffice"
   ]
  },
  {
   "cell_type": "code",
   "execution_count": 5,
   "id": "6f97715f",
   "metadata": {},
   "outputs": [],
   "source": [
    "train_ln['y']=train_ln.ymd.dt.strftime('%Y')\n",
    "train_ln['m']=train_ln.ymd.dt.strftime('%m')\n",
    "train_ln['d']=train_ln.ymd.dt.strftime('%d')"
   ]
  },
  {
   "cell_type": "code",
   "execution_count": 6,
   "id": "715818f8",
   "metadata": {
    "scrolled": true
   },
   "outputs": [
    {
     "data": {
      "text/html": [
       "<div>\n",
       "<style scoped>\n",
       "    .dataframe tbody tr th:only-of-type {\n",
       "        vertical-align: middle;\n",
       "    }\n",
       "\n",
       "    .dataframe tbody tr th {\n",
       "        vertical-align: top;\n",
       "    }\n",
       "\n",
       "    .dataframe thead th {\n",
       "        text-align: right;\n",
       "    }\n",
       "</style>\n",
       "<table border=\"1\" class=\"dataframe\">\n",
       "  <thead>\n",
       "    <tr style=\"text-align: right;\">\n",
       "      <th></th>\n",
       "      <th>dn</th>\n",
       "    </tr>\n",
       "    <tr>\n",
       "      <th>dow</th>\n",
       "      <th></th>\n",
       "    </tr>\n",
       "  </thead>\n",
       "  <tbody>\n",
       "    <tr>\n",
       "      <th>0</th>\n",
       "      <td>539.533333</td>\n",
       "    </tr>\n",
       "    <tr>\n",
       "      <th>1</th>\n",
       "      <td>522.305439</td>\n",
       "    </tr>\n",
       "    <tr>\n",
       "      <th>3</th>\n",
       "      <td>480.401639</td>\n",
       "    </tr>\n",
       "    <tr>\n",
       "      <th>2</th>\n",
       "      <td>432.358209</td>\n",
       "    </tr>\n",
       "    <tr>\n",
       "      <th>4</th>\n",
       "      <td>408.146444</td>\n",
       "    </tr>\n",
       "  </tbody>\n",
       "</table>\n",
       "</div>"
      ],
      "text/plain": [
       "             dn\n",
       "dow            \n",
       "0    539.533333\n",
       "1    522.305439\n",
       "3    480.401639\n",
       "2    432.358209\n",
       "4    408.146444"
      ]
     },
     "execution_count": 6,
     "metadata": {},
     "output_type": "execute_result"
    }
   ],
   "source": [
    "train_dn[['dow','dn']].groupby('dow').mean().\\\n",
    "sort_values('dn',ascending=False)"
   ]
  },
  {
   "cell_type": "code",
   "execution_count": 7,
   "id": "1bfc56c5",
   "metadata": {
    "scrolled": false
   },
   "outputs": [],
   "source": [
    "df = train_ln[['atoffice','dow','overtime','y','m','d','ln_prop']]"
   ]
  },
  {
   "cell_type": "code",
   "execution_count": 8,
   "id": "3abd91f6",
   "metadata": {},
   "outputs": [
    {
     "name": "stderr",
     "output_type": "stream",
     "text": [
      "<ipython-input-8-84bb9092db83>:2: SettingWithCopyWarning: \n",
      "A value is trying to be set on a copy of a slice from a DataFrame.\n",
      "Try using .loc[row_indexer,col_indexer] = value instead\n",
      "\n",
      "See the caveats in the documentation: https://pandas.pydata.org/pandas-docs/stable/user_guide/indexing.html#returning-a-view-versus-a-copy\n",
      "  df['dow'] = df['dow'].replace(week_encoded)\n"
     ]
    }
   ],
   "source": [
    "week_encoded = train_ln.groupby('dow').ln.mean()\n",
    "df['dow'] = df['dow'].replace(week_encoded)"
   ]
  },
  {
   "cell_type": "code",
   "execution_count": 9,
   "id": "41a488ce",
   "metadata": {},
   "outputs": [
    {
     "name": "stderr",
     "output_type": "stream",
     "text": [
      "C:\\Users\\user\\anaconda3\\lib\\site-packages\\pandas\\core\\generic.py:5494: SettingWithCopyWarning: \n",
      "A value is trying to be set on a copy of a slice from a DataFrame.\n",
      "Try using .loc[row_indexer,col_indexer] = value instead\n",
      "\n",
      "See the caveats in the documentation: https://pandas.pydata.org/pandas-docs/stable/user_guide/indexing.html#returning-a-view-versus-a-copy\n",
      "  self[name] = value\n",
      "<ipython-input-9-6de71ab980fe>:2: SettingWithCopyWarning: \n",
      "A value is trying to be set on a copy of a slice from a DataFrame.\n",
      "Try using .loc[row_indexer,col_indexer] = value instead\n",
      "\n",
      "See the caveats in the documentation: https://pandas.pydata.org/pandas-docs/stable/user_guide/indexing.html#returning-a-view-versus-a-copy\n",
      "  df['atoffice_prop'] = df.atoffice/train_ln.employees\n"
     ]
    }
   ],
   "source": [
    "df.overtime = df.overtime/train_ln.employees\n",
    "df['atoffice_prop'] = df.atoffice/train_ln.employees"
   ]
  },
  {
   "cell_type": "code",
   "execution_count": 11,
   "id": "baba86cb",
   "metadata": {},
   "outputs": [],
   "source": [
    "df = df[['atoffice','atoffice_prop','y','m','d','dow','overtime','ln_prop']]"
   ]
  },
  {
   "cell_type": "code",
   "execution_count": 12,
   "id": "cb3e558a",
   "metadata": {
    "scrolled": false
   },
   "outputs": [
    {
     "data": {
      "text/html": [
       "<div>\n",
       "<style scoped>\n",
       "    .dataframe tbody tr th:only-of-type {\n",
       "        vertical-align: middle;\n",
       "    }\n",
       "\n",
       "    .dataframe tbody tr th {\n",
       "        vertical-align: top;\n",
       "    }\n",
       "\n",
       "    .dataframe thead th {\n",
       "        text-align: right;\n",
       "    }\n",
       "</style>\n",
       "<table border=\"1\" class=\"dataframe\">\n",
       "  <thead>\n",
       "    <tr style=\"text-align: right;\">\n",
       "      <th></th>\n",
       "      <th>atoffice</th>\n",
       "      <th>atoffice_prop</th>\n",
       "      <th>dow</th>\n",
       "      <th>overtime</th>\n",
       "      <th>y</th>\n",
       "      <th>m</th>\n",
       "      <th>d</th>\n",
       "      <th>ln_prop</th>\n",
       "    </tr>\n",
       "  </thead>\n",
       "  <tbody>\n",
       "    <tr>\n",
       "      <th>0</th>\n",
       "      <td>2401.0</td>\n",
       "      <td>0.923106</td>\n",
       "      <td>1146.395833</td>\n",
       "      <td>0.091503</td>\n",
       "      <td>2016</td>\n",
       "      <td>02</td>\n",
       "      <td>01</td>\n",
       "      <td>0.432736</td>\n",
       "    </tr>\n",
       "    <tr>\n",
       "      <th>1</th>\n",
       "      <td>2378.0</td>\n",
       "      <td>0.914264</td>\n",
       "      <td>925.620833</td>\n",
       "      <td>0.122645</td>\n",
       "      <td>2016</td>\n",
       "      <td>02</td>\n",
       "      <td>02</td>\n",
       "      <td>0.364592</td>\n",
       "    </tr>\n",
       "    <tr>\n",
       "      <th>2</th>\n",
       "      <td>2365.0</td>\n",
       "      <td>0.909266</td>\n",
       "      <td>905.213389</td>\n",
       "      <td>0.042676</td>\n",
       "      <td>2016</td>\n",
       "      <td>02</td>\n",
       "      <td>03</td>\n",
       "      <td>0.430021</td>\n",
       "    </tr>\n",
       "    <tr>\n",
       "      <th>3</th>\n",
       "      <td>2277.0</td>\n",
       "      <td>0.875433</td>\n",
       "      <td>823.991803</td>\n",
       "      <td>0.136486</td>\n",
       "      <td>2016</td>\n",
       "      <td>02</td>\n",
       "      <td>04</td>\n",
       "      <td>0.429513</td>\n",
       "    </tr>\n",
       "    <tr>\n",
       "      <th>4</th>\n",
       "      <td>2142.0</td>\n",
       "      <td>0.823529</td>\n",
       "      <td>653.590909</td>\n",
       "      <td>0.013072</td>\n",
       "      <td>2016</td>\n",
       "      <td>02</td>\n",
       "      <td>05</td>\n",
       "      <td>0.431839</td>\n",
       "    </tr>\n",
       "    <tr>\n",
       "      <th>...</th>\n",
       "      <td>...</td>\n",
       "      <td>...</td>\n",
       "      <td>...</td>\n",
       "      <td>...</td>\n",
       "      <td>...</td>\n",
       "      <td>...</td>\n",
       "      <td>...</td>\n",
       "      <td>...</td>\n",
       "    </tr>\n",
       "    <tr>\n",
       "      <th>1200</th>\n",
       "      <td>2319.0</td>\n",
       "      <td>0.777405</td>\n",
       "      <td>905.213389</td>\n",
       "      <td>0.001341</td>\n",
       "      <td>2021</td>\n",
       "      <td>01</td>\n",
       "      <td>20</td>\n",
       "      <td>0.471324</td>\n",
       "    </tr>\n",
       "    <tr>\n",
       "      <th>1201</th>\n",
       "      <td>2309.0</td>\n",
       "      <td>0.774053</td>\n",
       "      <td>823.991803</td>\n",
       "      <td>0.154878</td>\n",
       "      <td>2021</td>\n",
       "      <td>01</td>\n",
       "      <td>21</td>\n",
       "      <td>0.360329</td>\n",
       "    </tr>\n",
       "    <tr>\n",
       "      <th>1202</th>\n",
       "      <td>2177.0</td>\n",
       "      <td>0.729802</td>\n",
       "      <td>653.590909</td>\n",
       "      <td>0.000335</td>\n",
       "      <td>2021</td>\n",
       "      <td>01</td>\n",
       "      <td>22</td>\n",
       "      <td>0.265962</td>\n",
       "    </tr>\n",
       "    <tr>\n",
       "      <th>1203</th>\n",
       "      <td>2396.0</td>\n",
       "      <td>0.803218</td>\n",
       "      <td>1146.395833</td>\n",
       "      <td>0.206504</td>\n",
       "      <td>2021</td>\n",
       "      <td>01</td>\n",
       "      <td>25</td>\n",
       "      <td>0.477880</td>\n",
       "    </tr>\n",
       "    <tr>\n",
       "      <th>1204</th>\n",
       "      <td>2369.0</td>\n",
       "      <td>0.794167</td>\n",
       "      <td>925.620833</td>\n",
       "      <td>0.184713</td>\n",
       "      <td>2021</td>\n",
       "      <td>01</td>\n",
       "      <td>26</td>\n",
       "      <td>0.428451</td>\n",
       "    </tr>\n",
       "  </tbody>\n",
       "</table>\n",
       "<p>1205 rows × 8 columns</p>\n",
       "</div>"
      ],
      "text/plain": [
       "      atoffice  atoffice_prop          dow  overtime     y   m   d   ln_prop\n",
       "0       2401.0       0.923106  1146.395833  0.091503  2016  02  01  0.432736\n",
       "1       2378.0       0.914264   925.620833  0.122645  2016  02  02  0.364592\n",
       "2       2365.0       0.909266   905.213389  0.042676  2016  02  03  0.430021\n",
       "3       2277.0       0.875433   823.991803  0.136486  2016  02  04  0.429513\n",
       "4       2142.0       0.823529   653.590909  0.013072  2016  02  05  0.431839\n",
       "...        ...            ...          ...       ...   ...  ..  ..       ...\n",
       "1200    2319.0       0.777405   905.213389  0.001341  2021  01  20  0.471324\n",
       "1201    2309.0       0.774053   823.991803  0.154878  2021  01  21  0.360329\n",
       "1202    2177.0       0.729802   653.590909  0.000335  2021  01  22  0.265962\n",
       "1203    2396.0       0.803218  1146.395833  0.206504  2021  01  25  0.477880\n",
       "1204    2369.0       0.794167   925.620833  0.184713  2021  01  26  0.428451\n",
       "\n",
       "[1205 rows x 8 columns]"
      ]
     },
     "execution_count": 12,
     "metadata": {},
     "output_type": "execute_result"
    }
   ],
   "source": [
    "df"
   ]
  },
  {
   "cell_type": "code",
   "execution_count": 13,
   "id": "5714dc58",
   "metadata": {},
   "outputs": [],
   "source": [
    "from sklearn.model_selection import train_test_split\n",
    "from sklearn.metrics import mean_absolute_error\n",
    "from sklearn.ensemble import RandomForestRegressor"
   ]
  },
  {
   "cell_type": "code",
   "execution_count": 84,
   "id": "84d5a731",
   "metadata": {},
   "outputs": [
    {
     "name": "stdout",
     "output_type": "stream",
     "text": [
      "훈련 세트 정확도: 0.960\n",
      "테스트 세트 정확도: 0.728\n",
      "MAE: 76.066\n"
     ]
    }
   ],
   "source": [
    "X_train, X_test, y_train, y_test = train_test_split(df.iloc[:,1:-1],\n",
    "                                                    df.iloc[:,-1],\n",
    "                                                    test_size=0.3,\n",
    "                                                    random_state=42)\n",
    "rtree = RandomForestRegressor(n_jobs=-1, random_state=42)\n",
    "rtree.fit(X_train, y_train)\n",
    "y_pred = rtree.predict(X_test)\n",
    "\n",
    "a1 = df.loc[y_test.index].atoffice * y_test\n",
    "a2 = df.loc[y_test.index].atoffice * y_pred\n",
    "\n",
    "print(\"훈련 세트 정확도: {:.3f}\".format(rtree.score(X_train, y_train)))\n",
    "print(\"테스트 세트 정확도: {:.3f}\".format(rtree.score(X_test, y_test)))\n",
    "print(\"MAE: {:.3f}\".format(mean_absolute_error(a1,a2)))"
   ]
  },
  {
   "cell_type": "code",
   "execution_count": 85,
   "id": "c90489c2",
   "metadata": {},
   "outputs": [],
   "source": [
    "test_ln['y'] = test_ln.ymd.dt.strftime('%Y')\n",
    "test_ln['m'] = test_ln.ymd.dt.strftime('%m')\n",
    "test_ln['d'] = test_ln.ymd.dt.strftime('%d')\n",
    "test_ln['atoffice_prop'] = test_ln.atoffice / test_ln.employees\n",
    "week_encoded = train_ln.groupby('dow').ln.mean()\n",
    "test_ln['dow'] = test_ln.dow.replace(week_encoded)"
   ]
  },
  {
   "cell_type": "code",
   "execution_count": 86,
   "id": "6ce49493",
   "metadata": {},
   "outputs": [],
   "source": [
    "X_test_ln = test_ln[['atoffice_prop','overtime','y','m','d','dow']]\n",
    "pred_ln_prop = rtree.predict(X_test_ln)\n",
    "pred_ln = pred_ln_prop * test_ln.atoffice"
   ]
  },
  {
   "cell_type": "code",
   "execution_count": 89,
   "id": "ffbbbba0",
   "metadata": {},
   "outputs": [],
   "source": [
    "sub['중식계'] = pred_ln"
   ]
  },
  {
   "cell_type": "code",
   "execution_count": null,
   "id": "16ad2886",
   "metadata": {},
   "outputs": [],
   "source": []
  },
  {
   "cell_type": "code",
   "execution_count": 90,
   "id": "ff5f03cf",
   "metadata": {},
   "outputs": [],
   "source": [
    "train_dn['dn_prop'] = train_dn.dn / train_dn.atoffice\n",
    "train_dn['y']=train_dn.ymd.dt.strftime('%Y')\n",
    "train_dn['m']=train_dn.ymd.dt.strftime('%m')\n",
    "train_dn['d']=train_dn.ymd.dt.strftime('%d')\n",
    "train_dn['atoffice_prop'] = train_dn.atoffice / train_dn.employees\n",
    "train_dn['overtime_prop'] = train_dn.overtime / train_dn.atoffice\n",
    "week_encoded = train_dn.groupby('dow').dn.mean()\n",
    "train_dn['dow'] = train_dn.dow.replace(week_encoded)"
   ]
  },
  {
   "cell_type": "code",
   "execution_count": 91,
   "id": "0e538f1b",
   "metadata": {},
   "outputs": [
    {
     "name": "stdout",
     "output_type": "stream",
     "text": [
      "훈련 세트 정확도: 0.944\n",
      "테스트 세트 정확도: 0.616\n",
      "MAE: 47.701\n"
     ]
    }
   ],
   "source": [
    "df_trdn = train_dn[['atoffice','atoffice_prop','overtime_prop','y','m','d','dow',\n",
    "                    'overtime','dn_prop']]\n",
    "X_train, X_test, y_train, y_test = train_test_split(df_trdn.iloc[:,1:-1],\n",
    "                                                    df_trdn.iloc[:,-1],\n",
    "                                                    test_size=0.3,\n",
    "                                                    random_state=42)\n",
    "rtree2 = RandomForestRegressor(n_jobs=-1, random_state=42)\n",
    "rtree2.fit(X_train, y_train)\n",
    "y_pred2 = rtree2.predict(X_test)\n",
    "\n",
    "a1 = df_trdn.loc[y_test.index].atoffice * y_test\n",
    "a2 = df_trdn.loc[y_test.index].atoffice * y_pred2\n",
    "\n",
    "print(\"훈련 세트 정확도: {:.3f}\".format(rtree2.score(X_train, y_train)))\n",
    "print(\"테스트 세트 정확도: {:.3f}\".format(rtree2.score(X_test, y_test)))\n",
    "print(\"MAE: {:.3f}\".format(mean_absolute_error(a1,a2)))"
   ]
  },
  {
   "cell_type": "code",
   "execution_count": 92,
   "id": "ceeb0208",
   "metadata": {},
   "outputs": [],
   "source": [
    "test_dn['y'] = test_dn.ymd.dt.strftime('%Y')\n",
    "test_dn['m'] = test_dn.ymd.dt.strftime('%m')\n",
    "test_dn['d'] = test_dn.ymd.dt.strftime('%d')\n",
    "test_dn['atoffice_prop'] = test_dn.atoffice / test_dn.employees\n",
    "test_dn['overtime_prop'] = test_dn.overtime / test_dn.atoffice\n",
    "week_encoded = train_dn.groupby('dow').dn.mean()\n",
    "test_dn['dow'] = test_dn.dow.replace(week_encoded)"
   ]
  },
  {
   "cell_type": "code",
   "execution_count": 93,
   "id": "13903dfd",
   "metadata": {},
   "outputs": [],
   "source": [
    "X_test_dn = test_dn[['atoffice_prop','overtime_prop','y','m','d','dow','overtime']]\n",
    "pred_dn_prop = rtree2.predict(X_test_dn)\n",
    "pred_dn = pred_dn_prop * test_dn.atoffice"
   ]
  },
  {
   "cell_type": "code",
   "execution_count": 94,
   "id": "71a9e1bc",
   "metadata": {},
   "outputs": [],
   "source": [
    "sub['석식계'] = pred_dn"
   ]
  },
  {
   "cell_type": "code",
   "execution_count": 101,
   "id": "3a464607",
   "metadata": {},
   "outputs": [],
   "source": [
    "sub[['중식계','석식계']] = sub[['중식계','석식계']].round(0).astype('int')"
   ]
  },
  {
   "cell_type": "code",
   "execution_count": 103,
   "id": "4cd250e6",
   "metadata": {},
   "outputs": [],
   "source": [
    "sub.to_csv('./data/submission.csv',index=False)"
   ]
  },
  {
   "cell_type": "code",
   "execution_count": null,
   "id": "7b80e75d",
   "metadata": {},
   "outputs": [],
   "source": []
  }
 ],
 "metadata": {
  "kernelspec": {
   "display_name": "Python 3",
   "language": "python",
   "name": "python3"
  },
  "language_info": {
   "codemirror_mode": {
    "name": "ipython",
    "version": 3
   },
   "file_extension": ".py",
   "mimetype": "text/x-python",
   "name": "python",
   "nbconvert_exporter": "python",
   "pygments_lexer": "ipython3",
   "version": "3.8.8"
  }
 },
 "nbformat": 4,
 "nbformat_minor": 5
}
