{
 "cells": [
  {
   "cell_type": "code",
   "execution_count": 1,
   "id": "0cbb2208",
   "metadata": {},
   "outputs": [],
   "source": [
    "import pandas as pd\n",
    "import numpy as np\n",
    "import matplotlib\n",
    "import matplotlib.pyplot as plt\n",
    "%matplotlib inline\n",
    "plt.rc('font', family='NanumGothic')\n",
    "matplotlib.rcParams['axes.unicode_minus'] = False   # 마이너스 부호 깨짐"
   ]
  },
  {
   "cell_type": "code",
   "execution_count": 23,
   "id": "b1d378a4",
   "metadata": {},
   "outputs": [],
   "source": [
    "train_ln = pd.read_csv('./data/train_ln.csv',parse_dates=['ymd'])\n",
    "train_dn = pd.read_csv('./data/train_dn.csv',parse_dates=['ymd'])\n",
    "test_ln = pd.read_csv('./data/test_ln.csv',parse_dates=['ymd'])\n",
    "test_dn = pd.read_csv('./data/test_dn.csv',parse_dates=['ymd'])"
   ]
  },
  {
   "cell_type": "code",
   "execution_count": 24,
   "id": "a8755ce8",
   "metadata": {},
   "outputs": [],
   "source": [
    "sub = pd.read_csv('./data/original/sample_submission.csv')"
   ]
  },
  {
   "cell_type": "code",
   "execution_count": 25,
   "id": "42f53a15",
   "metadata": {},
   "outputs": [],
   "source": [
    "train_ln = train_ln.drop(['menu2','side2','side3','kimchi','etc'],axis=1)\n",
    "train_dn = train_dn.drop(['menu3','side2','side3','kimchi'],axis=1)\n",
    "test_ln = test_ln.drop(['menu2','side2','side3','kimchi','etc'],axis=1)\n",
    "test_dn = test_dn.drop(['menu3','side2','side3','kimchi'],axis=1)"
   ]
  },
  {
   "cell_type": "code",
   "execution_count": null,
   "id": "df5a4580",
   "metadata": {},
   "outputs": [],
   "source": []
  },
  {
   "cell_type": "code",
   "execution_count": 47,
   "id": "c8dc24e3",
   "metadata": {},
   "outputs": [
    {
     "data": {
      "text/plain": [
       "Index(['ymd', 'dow', 'employees', 'dayoff', 'bustrip', 'overtime', 'remote',\n",
       "       'ln', 'rice', 'soup', 'side1', 'atoffice', 'ln_prop', 'dow_encoded',\n",
       "       'y', 'm', 'd', 'y_encoded', 'm_encoded'],\n",
       "      dtype='object')"
      ]
     },
     "execution_count": 47,
     "metadata": {},
     "output_type": "execute_result"
    }
   ],
   "source": [
    "train_ln.columns"
   ]
  },
  {
   "cell_type": "code",
   "execution_count": null,
   "id": "8847eb2b",
   "metadata": {},
   "outputs": [],
   "source": []
  },
  {
   "cell_type": "code",
   "execution_count": 63,
   "id": "fb176218",
   "metadata": {},
   "outputs": [],
   "source": [
    "train_ln['y'] = train_ln.ymd.dt.strftime('%Y')\n",
    "train_ln['m'] = train_ln.ymd.dt.strftime('%m')\n",
    "\n",
    "train_ln['ln_prop'] = train_ln.ln / train_ln.atoffice\n",
    "\n",
    "y_encode = train_ln.groupby('y').ln_prop.mean()\n",
    "m_encode = train_ln.groupby('m').ln_prop.mean()\n",
    "dow_encode = train_ln.groupby('dow').ln_prop.mean()\n",
    "\n",
    "train_ln['y_encoded'] = train_ln.y.replace(y_encode)\n",
    "train_ln['m_encoded'] = train_ln.m.replace(m_encode)\n",
    "train_ln['dow_encoded'] = train_ln.dow.replace(dow_encode)"
   ]
  },
  {
   "cell_type": "code",
   "execution_count": 62,
   "id": "23c6ce94",
   "metadata": {},
   "outputs": [],
   "source": [
    "train_ln = df_ch(train_ln,'ln')\n",
    "train_dn = df_ch(train_dn,'dn')"
   ]
  },
  {
   "cell_type": "code",
   "execution_count": 64,
   "id": "7614ce56",
   "metadata": {},
   "outputs": [],
   "source": [
    "test_ln['y'] = test_ln.ymd.dt.strftime('%Y')\n",
    "test_ln['m'] = test_ln.ymd.dt.strftime('%m')\n",
    "test_ln['y_encoded'] = test_ln.y.replace(y_encode)\n",
    "test_ln['m_encoded'] = test_ln.m.replace(m_encode)\n",
    "test_ln['dow_encoded'] = test_ln.dow.replace(dow_encode)"
   ]
  },
  {
   "cell_type": "code",
   "execution_count": 51,
   "id": "724fc253",
   "metadata": {},
   "outputs": [],
   "source": [
    "from sklearn.model_selection import train_test_split\n",
    "from sklearn.metrics import mean_absolute_error\n",
    "from sklearn.ensemble import RandomForestRegressor"
   ]
  },
  {
   "cell_type": "code",
   "execution_count": 69,
   "id": "429e8d78",
   "metadata": {},
   "outputs": [
    {
     "name": "stdout",
     "output_type": "stream",
     "text": [
      "훈련 세트 정확도: 0.958\n",
      "테스트 세트 정확도: 0.754\n",
      "MAE: 75.893\n"
     ]
    }
   ],
   "source": [
    "tmp_ln = train_ln[['overtime','atoffice',\n",
    "                 'y_encoded', 'm_encoded','dow_encoded','ln']]\n",
    "\n",
    "X_train, X_test, y_train, y_test = train_test_split(tmp_ln.iloc[:,:-1],\n",
    "                                                    tmp_ln.iloc[:,-1],\n",
    "                                                    test_size=0.3,\n",
    "                                                    random_state=42)\n",
    "rtree = RandomForestRegressor(criterion='mae', random_state=42)\n",
    "rtree.fit(X_train, y_train)\n",
    "y_pred = rtree.predict(X_test)\n",
    "\n",
    "print(\"훈련 세트 정확도: {:.3f}\".format(rtree.score(X_train, y_train)))\n",
    "print(\"테스트 세트 정확도: {:.3f}\".format(rtree.score(X_test, y_test)))\n",
    "print(\"MAE: {:.3f}\".format(mean_absolute_error(y_pred,y_test)))"
   ]
  },
  {
   "cell_type": "code",
   "execution_count": 73,
   "id": "254add4e",
   "metadata": {},
   "outputs": [],
   "source": [
    "tmp_test_ln = test_ln[['overtime','atoffice',\n",
    "                        'y_encoded', 'm_encoded','dow_encoded']]\n",
    "ln_pred = rtree.predict(tmp_test_ln)\n",
    "ln_pred = ln_pred.round(0).astype('int')\n",
    "sub['중식계'] = ln_pred"
   ]
  },
  {
   "cell_type": "code",
   "execution_count": null,
   "id": "745d8296",
   "metadata": {},
   "outputs": [],
   "source": []
  },
  {
   "cell_type": "code",
   "execution_count": 65,
   "id": "7abc3b09",
   "metadata": {},
   "outputs": [],
   "source": [
    "train_dn['y'] = train_dn.ymd.dt.strftime('%Y')\n",
    "train_dn['m'] = train_dn.ymd.dt.strftime('%m')\n",
    "\n",
    "train_dn['dn_prop'] = train_dn.dn / train_dn.atoffice\n",
    "\n",
    "y_encode = train_dn.groupby('y').dn_prop.mean()\n",
    "m_encode = train_dn.groupby('m').dn_prop.mean()\n",
    "dow_encode = train_dn.groupby('dow').dn_prop.mean()\n",
    "\n",
    "train_dn['y_encoded'] = train_dn.y.replace(y_encode)\n",
    "train_dn['m_encoded'] = train_dn.m.replace(m_encode)\n",
    "train_dn['dow_encoded'] = train_dn.dow.replace(dow_encode)"
   ]
  },
  {
   "cell_type": "code",
   "execution_count": 66,
   "id": "521aa0c0",
   "metadata": {},
   "outputs": [],
   "source": [
    "test_dn['y'] = test_dn.ymd.dt.strftime('%Y')\n",
    "test_dn['m'] = test_dn.ymd.dt.strftime('%m')\n",
    "test_dn['y_encoded'] = test_dn.y.replace(y_encode)\n",
    "test_dn['m_encoded'] = test_dn.m.replace(m_encode)\n",
    "test_dn['dow_encoded'] = test_dn.dow.replace(dow_encode)"
   ]
  },
  {
   "cell_type": "code",
   "execution_count": 75,
   "id": "0f87dff4",
   "metadata": {},
   "outputs": [
    {
     "name": "stdout",
     "output_type": "stream",
     "text": [
      "훈련 세트 정확도: 0.946\n",
      "테스트 세트 정확도: 0.647\n",
      "MAE: 45.791\n"
     ]
    }
   ],
   "source": [
    "tmp_dn = train_dn[['overtime','atoffice',\n",
    "                 'y_encoded', 'm_encoded','dow_encoded','dn']]\n",
    "\n",
    "X_train, X_test, y_train, y_test = train_test_split(tmp_dn.iloc[:,:-1],\n",
    "                                                    tmp_dn.iloc[:,-1],\n",
    "                                                    test_size=0.3,\n",
    "                                                    random_state=42)\n",
    "rtree = RandomForestRegressor(criterion='mae', random_state=42)\n",
    "rtree.fit(X_train, y_train)\n",
    "y_pred = rtree.predict(X_test)\n",
    "\n",
    "print(\"훈련 세트 정확도: {:.3f}\".format(rtree.score(X_train, y_train)))\n",
    "print(\"테스트 세트 정확도: {:.3f}\".format(rtree.score(X_test, y_test)))\n",
    "print(\"MAE: {:.3f}\".format(mean_absolute_error(y_pred,y_test)))"
   ]
  },
  {
   "cell_type": "code",
   "execution_count": 76,
   "id": "88becf35",
   "metadata": {},
   "outputs": [],
   "source": [
    "tmp_test_dn = test_dn[['overtime','atoffice',\n",
    "                        'y_encoded', 'm_encoded','dow_encoded']]\n",
    "dn_pred = rtree.predict(tmp_test_dn)\n",
    "dn_pred = dn_pred.round(0).astype('int')\n",
    "sub['석식계'] = dn_pred"
   ]
  },
  {
   "cell_type": "code",
   "execution_count": null,
   "id": "a134c16b",
   "metadata": {},
   "outputs": [],
   "source": []
  },
  {
   "cell_type": "code",
   "execution_count": 78,
   "id": "4d5e3fab",
   "metadata": {},
   "outputs": [],
   "source": [
    "sub.to_csv('./data/submission2.csv',index=False)"
   ]
  }
 ],
 "metadata": {
  "kernelspec": {
   "display_name": "Python 3",
   "language": "python",
   "name": "python3"
  },
  "language_info": {
   "codemirror_mode": {
    "name": "ipython",
    "version": 3
   },
   "file_extension": ".py",
   "mimetype": "text/x-python",
   "name": "python",
   "nbconvert_exporter": "python",
   "pygments_lexer": "ipython3",
   "version": "3.8.8"
  }
 },
 "nbformat": 4,
 "nbformat_minor": 5
}
