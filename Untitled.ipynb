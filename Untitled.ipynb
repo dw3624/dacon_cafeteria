{
 "cells": [
  {
   "cell_type": "code",
   "execution_count": 1,
   "id": "0cbb2208",
   "metadata": {},
   "outputs": [],
   "source": [
    "import pandas as pd\n",
    "import numpy as np\n",
    "import matplotlib\n",
    "import matplotlib.pyplot as plt\n",
    "%matplotlib inline\n",
    "plt.rc('font', family='NanumGothic')\n",
    "matplotlib.rcParams['axes.unicode_minus'] = False   # 마이너스 부호 깨짐"
   ]
  },
  {
   "cell_type": "code",
   "execution_count": 2,
   "id": "b1d378a4",
   "metadata": {},
   "outputs": [],
   "source": [
    "train_ln = pd.read_csv('./data/train_ln.csv',parse_dates=['ymd'])\n",
    "train_dn = pd.read_csv('./data/train_dn.csv',parse_dates=['ymd'])\n",
    "test_ln = pd.read_csv('./data/test_ln.csv',parse_dates=['ymd'])\n",
    "test_dn = pd.read_csv('./data/test_dn.csv',parse_dates=['ymd'])"
   ]
  },
  {
   "cell_type": "code",
   "execution_count": 3,
   "id": "a8755ce8",
   "metadata": {},
   "outputs": [],
   "source": [
    "sub = pd.read_csv('./data/original/sample_submission.csv')"
   ]
  },
  {
   "cell_type": "code",
   "execution_count": 4,
   "id": "42f53a15",
   "metadata": {},
   "outputs": [],
   "source": [
    "train_ln = train_ln.drop(['menu2','side2','side3','kimchi','etc'],axis=1)\n",
    "train_dn = train_dn.drop(['menu3','side2','side3','kimchi'],axis=1)\n",
    "test_ln = test_ln.drop(['menu2','side2','side3','kimchi','etc'],axis=1)\n",
    "test_dn = test_dn.drop(['menu3','side2','side3','kimchi'],axis=1)"
   ]
  },
  {
   "cell_type": "markdown",
   "id": "94eaabf5",
   "metadata": {},
   "source": [
    "## 인원 관련 변수\n",
    "\n",
    "- 전체 인원\n",
    "- 휴가자\n",
    "- 출장자\n",
    "- 초과근무자\n",
    "- 재택근무자\n",
    "- 식사 가능 인원"
   ]
  },
  {
   "cell_type": "code",
   "execution_count": 5,
   "id": "7630cd4d",
   "metadata": {},
   "outputs": [],
   "source": [
    "x = train_ln.atoffice\n",
    "y = train_ln.employees"
   ]
  },
  {
   "cell_type": "code",
   "execution_count": 6,
   "id": "440377dc",
   "metadata": {},
   "outputs": [
    {
     "data": {
      "image/png": "[encoded data removed]",
      "text/plain": [
       "<Figure size 432x288 with 1 Axes>"
      ]
     },
     "metadata": {
      "needs_background": "light"
     },
     "output_type": "display_data"
    }
   ],
   "source": [
    "plt.scatter(train_ln.atoffice,train_ln.employees,s=2)\n",
    "plt.plot(np.unique(x), np.poly1d(np.polyfit(x, y, 1))(np.unique(x)), color='red')\n",
    "plt.xlabel('식사 가능 인원')\n",
    "plt.ylabel('전체 인원')\n",
    "plt.title('식사 가능 인원 & 전체 인원 상관관계 그래프')\n",
    "plt.show()"
   ]
  },
  {
   "cell_type": "markdown",
   "id": "3593fc23",
   "metadata": {},
   "source": [
    "## 날짜 관련 변수\n",
    "\n",
    "- 연도별 평균 식수인원\n",
    "- 월별 평균 식수인원\n",
    "- 요일별 평균 식수인원\n",
    "- 전주 요일별 평균 식수인원"
   ]
  },
  {
   "cell_type": "code",
   "execution_count": 7,
   "id": "15b2b6c9",
   "metadata": {},
   "outputs": [],
   "source": [
    "# 연도별 평균 식수인원\n",
    "# 월별 평균 식수인원\n",
    "# 요일별 평균 식수인원\n",
    "train_ln['y'] = train_ln.ymd.dt.strftime('%Y')\n",
    "train_ln['m'] = train_ln.ymd.dt.strftime('%m')\n",
    "\n",
    "y_encode = train_ln.groupby('y').ln.mean()\n",
    "m_encode = train_ln.groupby('m').ln.mean()\n",
    "dow_encode = train_ln.groupby('dow').ln.mean()\n",
    "\n",
    "train_ln['y_encoded'] = train_ln.y.replace(y_encode)\n",
    "train_ln['m_encoded'] = train_ln.m.replace(m_encode)\n",
    "train_ln['dow_encoded'] = train_ln.dow.replace(dow_encode)"
   ]
  },
  {
   "cell_type": "code",
   "execution_count": 8,
   "id": "e863b030",
   "metadata": {},
   "outputs": [],
   "source": [
    "import datetime"
   ]
  },
  {
   "cell_type": "code",
   "execution_count": 9,
   "id": "e120288a",
   "metadata": {},
   "outputs": [],
   "source": [
    "# 전주 요일별 평균 식수인원\n",
    "tmp = train_ln[['ymd','ln']]\n",
    "tmp.columns = ['prev_ymd','prev_ln']\n",
    "\n",
    "train_ln['prev_ymd'] = train_ln.ymd - datetime.timedelta(days=7)\n",
    "train_ln = pd.merge(train_ln,tmp,on='prev_ymd',how='left')"
   ]
  },
  {
   "cell_type": "markdown",
   "id": "90ab8141",
   "metadata": {},
   "source": [
    "## 메뉴 관련 변수\n",
    "\n",
    "- 대분류(조리법):\n",
    "    - 밥류, 비빔밥류, 볶음밥류, 덮밥국밥류\n",
    "    - 국탕류, 찌개류, 조림류, 면만두류,\n",
    "    - 찜류, 구이류, 튀김류, 볶음류, 기타\n",
    "\n",
    "    - rice1, rice2, rice3, rice4\n",
    "    - soup1, soup2, boil, noodle\n",
    "    - steam, roast, fried, sfried, etc1\n",
    "    \n",
    "    \n",
    "- 중분류(식재료):\n",
    "   - 육류, 어패류, 채소류,\n",
    "   - 난류, 양념류, 김치류\n",
    "   - 곡류, 두부류, 떡류, 기타\n",
    "\n",
    "   - meat, sea, vege,\n",
    "   - egg, sauce, kimchi,\n",
    "   - grain, tofu, tteok, etc2"
   ]
  },
  {
   "cell_type": "code",
   "execution_count": 456,
   "id": "6419037d",
   "metadata": {},
   "outputs": [],
   "source": [
    "rice1,rice2,rice3,rice4 = [],[],[],[]\n",
    "soup1,soup2,boil,noodel = [],[],[],[]\n",
    "steam,roast,fried,sfried,etc1 = [],[],[],[],[]\n",
    "\n",
    "meat = []; sea = []; vege = []\n",
    "egg = []; sauce = []; kimchi = []\n",
    "grain = []; tofu = []; tteok = []; etc2 = []"
   ]
  },
  {
   "cell_type": "code",
   "execution_count": 467,
   "id": "ec8187b5",
   "metadata": {},
   "outputs": [],
   "source": [
    "def category1(df1,df2):\n",
    "    global rice1,rice2,rice3,rice4,soup1,soup2,boil,noodle\n",
    "    global steam,roast,fried,sfried,etc1\n",
    "    \n",
    "    rice1  = list(set(rice1 + list(df1.loc[df2=='밥류'].unique())))\n",
    "    rice2  = list(set(rice2 + list(df1.loc[df2=='비빔밥류'].unique())))\n",
    "    rice3  = list(set(rice3 + list(df1.loc[df2=='볶음밥류'].unique())))\n",
    "    rice4  = list(set(rice4 + list(df1.loc[df2=='덮밥국밥류'].unique())))\n",
    "   \n",
    "    soup1  = list(set(soup1 + list(df1.loc[df2=='국탕류'].unique())))\n",
    "    soup2  = list(set(soup2 + list(df1.loc[df2=='찌개류'].unique())))\n",
    "    boil  = list(set(boil + list(df1.loc[df2=='조림류'].unique())))\n",
    "    noodle  = list(set(noodle + list(df1.loc[df2=='면만두류'].unique())))\n",
    "    \n",
    "    steam  = list(set(steam + list(df1.loc[df2=='찜류'].unique())))\n",
    "    roast  = list(set(roast + list(df1.loc[df2=='구이류'].unique())))\n",
    "    fried = list(set(fried + list(df1.loc[df2=='튀김류'].unique())))\n",
    "    sfried  = list(set(sfried + list(df1.loc[df2=='볶음류'].unique())))\n",
    "    etc1  = list(set(etc1 + list(df1.loc[df2=='기타'].unique())))"
   ]
  },
  {
   "cell_type": "code",
   "execution_count": 469,
   "id": "bd807838",
   "metadata": {},
   "outputs": [],
   "source": [
    "def category2(df1,df2):\n",
    "    global meat,sea,vege,egg,sauce,kimchi,grain,tofu,tteok,etc2\n",
    "    \n",
    "    meat = list(set(meat + list(df1.loc[df2=='육류'].unique())))\n",
    "    sea = list(set(sea + list(df1.loc[df2=='어패류'].unique())))\n",
    "    vege = list(set(vege + list(df1.loc[df2=='채소류'].unique())))\n",
    "    \n",
    "    egg = list(set(egg + list(df1.loc[df2=='난류'].unique())))\n",
    "    sauce = list(set(sauce + list(df1.loc[df2=='양념류'].unique())))\n",
    "    kimchi = list(set(kimchi + list(df1.loc[df2=='김치류'].unique())))\n",
    "    \n",
    "    grain = list(set(grain + list(df1.loc[df2=='곡류'].unique())))\n",
    "    tofu = list(set(tofu + list(df1.loc[df2=='두부류'].unique())))\n",
    "    tteok = list(set(tteok + list(df1.loc[df2=='떡류'].unique())))\n",
    "    etc2 = list(set(etc2 + list(df1.loc[df2=='기타'].unique())))"
   ]
  },
  {
   "cell_type": "markdown",
   "id": "d290ab1f",
   "metadata": {},
   "source": [
    "### 밥류"
   ]
  },
  {
   "cell_type": "code",
   "execution_count": 361,
   "id": "48580491",
   "metadata": {},
   "outputs": [],
   "source": [
    "train_ln['rice_c1'] = train_ln.rice\n",
    "train_ln.rice_c1.loc[train_ln.rice_c1.str.contains('쌀밥|드레밥|나물밥|영양밥|오곡밥')] = '밥류'\n",
    "train_ln.rice_c1.loc[train_ln.rice_c1.str.contains('비빔밥')] = '비빔밥류'\n",
    "train_ln.rice_c1.loc[train_ln.rice_c1.str.contains('볶음밥|필라프|오므')] = '볶음밥류'\n",
    "train_ln.rice_c1.loc[train_ln.rice_c1.str.contains('카레|짜장|덮밥')] = '덮밥국밥류'"
   ]
  },
  {
   "cell_type": "code",
   "execution_count": 362,
   "id": "3d6a67e8",
   "metadata": {},
   "outputs": [
    {
     "data": {
      "text/plain": [
       "array(['밥류', '덮밥국밥류', '비빔밥류', '볶음밥류'], dtype=object)"
      ]
     },
     "execution_count": 362,
     "metadata": {},
     "output_type": "execute_result"
    }
   ],
   "source": [
    "train_ln.rice_c1.unique()"
   ]
  },
  {
   "cell_type": "code",
   "execution_count": null,
   "id": "5180cf1f",
   "metadata": {},
   "outputs": [],
   "source": [
    "category1(train_ln.rice,train_ln.rice_c1)"
   ]
  },
  {
   "cell_type": "code",
   "execution_count": 322,
   "id": "525d92c9",
   "metadata": {},
   "outputs": [],
   "source": [
    "train_ln['rice_c2'] = train_ln.rice\n",
    "train_ln.rice_c2.loc[train_ln.rice_c2.str.contains('쌀밥')] = '곡류'\n",
    "train_ln.rice_c2 = train_ln.rice_c2.str.replace('\\카레\\S+','카레',regex=True)\n",
    "train_ln.rice_c2 = train_ln.rice_c2.str.replace('볶음밥|비빔밥|덮밥|카레|필라프|김밥',' ',regex=True)\n",
    "\n",
    "train_ln.rice_c2.loc[train_ln.rice_c2.str.contains('두부')] = '두부류'\n",
    "train_ln.rice_c2.loc[train_ln.rice_c2.str.contains('고기|제육|닭|베이컨|돈육')] = '육류'\n",
    "train_ln.rice_c2.loc[train_ln.rice_c2.str.contains('낙지|새우|참치|바지락')] = '어패류'\n",
    "train_ln.rice_c2.loc[train_ln.rice_c2.str.contains('곤드레|나물|새싹|단호박|산채|야채|채소')] = '채소류'\n",
    "train_ln.rice_c2.loc[train_ln.rice_c2.str.contains('오므')] = '난류'\n",
    "train_ln.rice_c2.loc[train_ln.rice_c2.str.contains('김치|열무')] = '김치류'\n",
    "train_ln.rice_c2.loc[train_ln.rice_c2.str.contains('보리|버섯|오곡')] = '곡류'\n",
    "\n",
    "\n",
    "train_ln.rice_c2 = train_ln.rice_c2.str.replace('연복풍|전주|건강|파인애플',' ',regex=True)\n",
    "train_ln.rice_c2.loc[train_ln.rice_c2.str.contains('라이스|짜장')] = ' '\n",
    "\n",
    "train_ln.rice_c2.loc[train_ln.rice_c2.str.contains(' ')] = '기타'"
   ]
  },
  {
   "cell_type": "code",
   "execution_count": 323,
   "id": "a3ae01b5",
   "metadata": {},
   "outputs": [
    {
     "data": {
      "text/plain": [
       "array(['곡류', '기타', '어패류', '채소류', '김치류', '육류', '두부류', '난류'], dtype=object)"
      ]
     },
     "execution_count": 323,
     "metadata": {},
     "output_type": "execute_result"
    }
   ],
   "source": [
    "train_ln.rice_c2.unique()"
   ]
  },
  {
   "cell_type": "code",
   "execution_count": null,
   "id": "ee066a95",
   "metadata": {},
   "outputs": [],
   "source": [
    "category2(train_ln.rice,train_ln.rice_c2)"
   ]
  },
  {
   "cell_type": "markdown",
   "id": "f38f9d82",
   "metadata": {},
   "source": [
    "### 수프류"
   ]
  },
  {
   "cell_type": "code",
   "execution_count": 365,
   "id": "22c4cc66",
   "metadata": {},
   "outputs": [],
   "source": [
    "train_ln['soup_c1'] = train_ln.soup\n",
    "train_ln.soup_c1 = train_ln.soup_c1.str.replace('\\(\\S+\\)','',regex=True)\n",
    "train_ln.soup_c1.loc[train_ln.soup_c1.str.contains('찌개')] = '찌개류'\n",
    "train_ln.soup_c1.loc[train_ln.soup_c1.str.contains(r'국$|탕$')] = '국탕류'\n",
    "train_ln.soup_c1.loc[train_ln.soup_c1.str.contains('개장|스프|짬뽕|시루|백숙')] = '국탕류'\n",
    "train_ln.soup_c1.loc[train_ln.soup_c1.str.contains('국수|우동|소바')] = '면만두류'\n",
    "train_ln.soup_c1.loc[train_ln.soup_c1.str.contains('국밥')] = '덮밥국밥류'\n",
    "train_ln.soup_c1.loc[train_ln.soup_c1.str.contains('수제비|커리|샤브')] = '기타'"
   ]
  },
  {
   "cell_type": "code",
   "execution_count": 366,
   "id": "64cd105d",
   "metadata": {
    "scrolled": false
   },
   "outputs": [
    {
     "data": {
      "text/plain": [
       "array(['찌개류', '국탕류', '덮밥국밥류', '면만두류', '기타'], dtype=object)"
      ]
     },
     "execution_count": 366,
     "metadata": {},
     "output_type": "execute_result"
    }
   ],
   "source": [
    "train_ln.soup_c1.unique()"
   ]
  },
  {
   "cell_type": "code",
   "execution_count": null,
   "id": "e1ae51bd",
   "metadata": {},
   "outputs": [],
   "source": [
    "category1(train_ln.soup,train_ln.soup_c1)"
   ]
  },
  {
   "cell_type": "code",
   "execution_count": 368,
   "id": "103ddd42",
   "metadata": {},
   "outputs": [],
   "source": [
    "train_ln['soup_c2'] = train_ln.soup\n",
    "train_ln.soup_c2 = train_ln.soup_c2.str.replace('\\(\\S+\\)','',regex=True)\n",
    "train_ln.soup_c2 = train_ln.soup_c2.str.replace('찌개|국$|탕$','',regex=True)\n",
    "train_ln.soup_c2.loc[train_ln.soup_c2.str.contains('돼지|백숙|오리|고기|갈비|사골|돈육|닭|차돌박')] = '육류'\n",
    "train_ln.soup_c2.loc[train_ln.soup_c2.str.contains('북엇|오징어|대구|북어|참치|해물|동태|황태|불낙|새우|멸치')] = '어패류'\n",
    "train_ln.soup_c2.loc[train_ln.soup_c2.str.contains('어묵|꽃게|가쯔오|올갱이|^굴|홍합|전복|바지락|다슬기|조갯살')] = '어패류'\n",
    "train_ln.soup_c2.loc[train_ln.soup_c2.str.contains('우거지|고사리|옥수수|아욱|얼갈이|팽이|시래기|감자|시금치|냉이|나물|근대|배추|호박|버섯|쑥|쪽파|열무|봄동')] = '채소류'\n",
    "train_ln.soup_c2.loc[train_ln.soup_c2.str.contains('고구마|청국|무채|토란|대파')] = '채소류'\n",
    "train_ln.soup_c2.loc[train_ln.soup_c2.str.contains('계란')] = '난류'\n",
    "train_ln.soup_c2.loc[train_ln.soup_c2.str.contains('된장|미소|크림')] = '양념류'\n",
    "train_ln.soup_c2.loc[train_ln.soup_c2.str.contains('김치|김칫')] = '김치류'\n",
    "train_ln.soup_c2.loc[train_ln.soup_c2.str.contains('들깨|콩')] = '곡류'\n",
    "train_ln.soup_c2.loc[train_ln.soup_c2.str.contains('두부|묵')] = '두부류'\n",
    "train_ln.soup_c2.loc[train_ln.soup_c2.str.contains('떡')] = '떡류'\n",
    "train_ln.soup_c2.loc[train_ln.soup_c2.str.contains('오이|미역|옹심이|순대|수제비|유부|미역')] = '기타'\n",
    "\n",
    "train_ln.soup_c2.loc[train_ln.soup_c2.str.contains('맑은|삼계|짬|만두|우동|나주|국수|소바|설렁')] = '기타'\n",
    "train_ln.soup_c2.loc[train_ln.soup_c2.str.contains('고추|부대|육개|돈신|난류|알|커리')] = '기타'"
   ]
  },
  {
   "cell_type": "code",
   "execution_count": 369,
   "id": "cd7284c8",
   "metadata": {},
   "outputs": [
    {
     "data": {
      "text/plain": [
       "array(['어패류', '김치류', '채소류', '육류', '떡류', '기타', '두부류', '양념류', '곡류'],\n",
       "      dtype=object)"
      ]
     },
     "execution_count": 369,
     "metadata": {},
     "output_type": "execute_result"
    }
   ],
   "source": [
    "train_ln.soup_c2.unique()"
   ]
  },
  {
   "cell_type": "code",
   "execution_count": null,
   "id": "5a7dfbba",
   "metadata": {},
   "outputs": [],
   "source": [
    "category2(train_ln.soup,train_ln.soup_c2)"
   ]
  },
  {
   "cell_type": "markdown",
   "id": "4c10019b",
   "metadata": {},
   "source": [
    "### 주찬1"
   ]
  },
  {
   "cell_type": "code",
   "execution_count": 449,
   "id": "104fcc9e",
   "metadata": {},
   "outputs": [],
   "source": [
    "train_ln['side1_c1'] = train_ln.side1\n",
    "\n",
    "train_ln.side1_c1.loc[train_ln.side1_c1.str.contains('카레|짜장소스')] = '밥류'\n",
    "train_ln.side1_c1.loc[train_ln.side1_c1.str.contains('만두|스파게티|파스타')] = '면만두류'\n",
    "train_ln.side1_c1.loc[train_ln.side1_c1.str.contains('누룽지탕|볶음탕')] = '국탕류'\n",
    "train_ln.side1_c1.loc[train_ln.side1_c1.str.contains('조림|김치말이|오향장육|쪼리닭')] = '조림류'\n",
    "train_ln.side1_c1.loc[train_ln.side1_c1.str.contains('찜|보쌈|동파육')] = '찜류'\n",
    "train_ln.side1_c1.loc[train_ln.side1_c1.str.contains('구이|스테이크|함박|야끼|바베큐|통닭|대패삼겹|핫도그|훈제오리|그라탕|미트볼')] = '구이류'\n",
    "train_ln.side1_c1.loc[train_ln.side1_c1.str.contains('튀김|커틀렛|커틀릿|치킨|고로케|돈가스|돈까스|가스$|까스$|카츠')] = '튀김류'\n",
    "train_ln.side1_c1.loc[train_ln.side1_c1.str.contains('강정|탕수|깐풍|유린기|후라이드|파닭|교촌|요거닭|칠리새우|크림새우')] = '튀김류'\n",
    "train_ln.side1_c1.loc[train_ln.side1_c1.str.contains('볶음$|불고기|갈비$|잡채|마파|주물럭|두루치기|궁보계정|산슬')] = '볶음류'\n",
    "train_ln.side1_c1.loc[train_ln.side1_c1.str.contains('생야채|샐러드|전$|전병|무침|말이|프리타타|피자|양장피')] = '기타'\n",
    "\n",
    "train_ln.side1_c1.loc[train_ln.side1_c1.str.contains('수육')] = '찜류'"
   ]
  },
  {
   "cell_type": "code",
   "execution_count": 450,
   "id": "fc05e91a",
   "metadata": {},
   "outputs": [
    {
     "data": {
      "text/plain": [
       "array(['볶음류', '튀김류', '구이류', '조림류', '찜류', '기타', '국탕류', '밥류', '면만두류'],\n",
       "      dtype=object)"
      ]
     },
     "execution_count": 450,
     "metadata": {},
     "output_type": "execute_result"
    }
   ],
   "source": [
    "train_ln.side1_c1.unique()"
   ]
  },
  {
   "cell_type": "code",
   "execution_count": null,
   "id": "b691ada3",
   "metadata": {},
   "outputs": [],
   "source": [
    "category1(train_ln.side1,train_ln.side1_c1)"
   ]
  },
  {
   "cell_type": "code",
   "execution_count": 527,
   "id": "78131733",
   "metadata": {},
   "outputs": [],
   "source": [
    "train_ln['side1_c2'] = train_ln.side1\n",
    "\n",
    "train_ln.side1_c2.loc[train_ln.side1_c2.str.contains('제육|닭|갈비|고기|치킨|돈육|오리|수육|삼겹살|대패')] = '육류'\n",
    "train_ln.side1_c2.loc[train_ln.side1_c2.str.contains('돈\\S스|소세지|목살|동파육|함박|미트|족발|바베큐|육전')] = '육류'\n",
    "train_ln.side1_c2.loc[train_ln.side1_c2.str.contains('카츠|유린기|오향장육|차돌박|후라이드|탕수만두|교촌')] = '육류'\n",
    "train_ln.side1_c2.loc[train_ln.side1_c2.str.contains('궁보계정|동그랑|삼색전|모둠장조림|깐풍|보쌈|완자전')] = '육류'\n",
    "train_ln.side1_c2.loc[train_ln.side1_c2.str.contains('고등어|갈치|꽁치|코다리|가자미|임연수|연어')] = '어패류'\n",
    "train_ln.side1_c2.loc[train_ln.side1_c2.str.contains('명태|동태|생선|낙지|오징어|주꾸미|쭈꾸미|골뱅이')] = '어패류'\n",
    "train_ln.side1_c2.loc[train_ln.side1_c2.str.contains('맛살|조기|새우|장어|굴비|삼치|조기|홍어|해물')] = '어패류'\n",
    "train_ln.side1_c2.loc[train_ln.side1_c2.str.contains('탕수어|열기어|적어구이')] = '어패류'\n",
    "train_ln.side1_c2.loc[train_ln.side1_c2.str.contains('새송이|호박|야채|감자|부추|깻잎|양파|고추|토마토')] = '채소류'\n",
    "train_ln.side1_c2.loc[train_ln.side1_c2.str.contains('메밀|나물|시금치|샐러드|양장피|달래|산슬|고구마')] = '채소류'\n",
    "train_ln.side1_c2.loc[train_ln.side1_c2.str.contains('계란|메추리')] = '난류'\n",
    "train_ln.side1_c2.loc[train_ln.side1_c2.str.contains('짜장소스|바질|알리오')] = '양념류'\n",
    "train_ln.side1_c2.loc[train_ln.side1_c2.str.contains('김치')] = '김치류'\n",
    "train_ln.side1_c2.loc[train_ln.side1_c2.str.contains('두부')] = '두부류'\n",
    "train_ln.side1_c2.loc[train_ln.side1_c2.str.contains('떡')] = '떡류'\n",
    "train_ln.side1_c2.loc[train_ln.side1_c2.str.contains('피자|모듬|순대')] = '기타'\n",
    "\n",
    "train_ln.side1_c2.loc[train_ln.side1_c2.str.contains('너비아니')] = '육류'"
   ]
  },
  {
   "cell_type": "code",
   "execution_count": 528,
   "id": "ff34978d",
   "metadata": {
    "scrolled": false
   },
   "outputs": [
    {
     "data": {
      "text/plain": [
       "array(['육류', '어패류', '채소류', '떡류', '난류', '기타', '김치류', '양념류', '두부류'],\n",
       "      dtype=object)"
      ]
     },
     "execution_count": 528,
     "metadata": {},
     "output_type": "execute_result"
    }
   ],
   "source": [
    "train_ln.side1_c2.unique()"
   ]
  },
  {
   "cell_type": "code",
   "execution_count": 529,
   "id": "238af4bf",
   "metadata": {},
   "outputs": [],
   "source": [
    "category2(train_ln.side1,train_ln.side1_c2)"
   ]
  },
  {
   "cell_type": "markdown",
   "id": "51270f74",
   "metadata": {},
   "source": [
    "## 날씨 관련 변수"
   ]
  },
  {
   "cell_type": "code",
   "execution_count": null,
   "id": "3908583b",
   "metadata": {},
   "outputs": [],
   "source": []
  },
  {
   "cell_type": "markdown",
   "id": "cee7f4a4",
   "metadata": {},
   "source": [
    "## 휴일 관련 변수\n",
    "\n",
    "- 휴일(공휴일, 휴무일) 전날 여부\n",
    "- 휴일(공휴일, 휴무일) 다음날 여부\n",
    "- 연휴 전날 여부\n",
    "- 연휴 다음날 여부"
   ]
  },
  {
   "cell_type": "code",
   "execution_count": 87,
   "id": "be7b975c",
   "metadata": {},
   "outputs": [],
   "source": [
    "holidays = pd.read_excel('./data/공휴일.xlsx',parse_dates=['ymd'])"
   ]
  },
  {
   "cell_type": "code",
   "execution_count": 88,
   "id": "097c30ff",
   "metadata": {},
   "outputs": [],
   "source": [
    "holidays['dow'] = holidays.ymd.dt.weekday\n",
    "hol = holidays.loc[holidays.dow != 5]\n",
    "hol = holidays.loc[holidays.dow != 6]\n",
    "hol = hol.reset_index()"
   ]
  },
  {
   "cell_type": "code",
   "execution_count": 89,
   "id": "66b2d0c9",
   "metadata": {
    "scrolled": false
   },
   "outputs": [],
   "source": [
    "hol['prev_hol'] = hol.ymd - datetime.timedelta(days=1)\n",
    "hol['next_hol'] = hol.ymd + datetime.timedelta(days=1)"
   ]
  },
  {
   "cell_type": "code",
   "execution_count": 24,
   "id": "b7b3b107",
   "metadata": {},
   "outputs": [],
   "source": [
    "train_ln['prev_hol'] = 0\n",
    "train_ln['next_hol'] = 0\n",
    "\n",
    "idx1 = train_ln.loc[train_ln.dow==0].index\n",
    "train_ln.loc[idx1,'prev_hol'] = 1\n",
    "\n",
    "idx2 = train_ln.loc[train_ln.dow==4].index\n",
    "train_ln.loc[idx2,'next_hol'] = 1"
   ]
  },
  {
   "cell_type": "code",
   "execution_count": 91,
   "id": "4d9f5637",
   "metadata": {
    "scrolled": true
   },
   "outputs": [],
   "source": [
    "for i in range(len(hol)):\n",
    "    idx1 = train_ln.loc[train_ln.ymd == hol.prev_hol[i]].index\n",
    "    train_ln.loc[idx,'prev_hol'] = 1\n",
    "    \n",
    "    idx2 = train_ln.loc[train_ln.ymd == hol.next_hol[i]].index\n",
    "    train_ln.loc[idx,'next_hol'] = 1"
   ]
  },
  {
   "cell_type": "code",
   "execution_count": null,
   "id": "16aed529",
   "metadata": {},
   "outputs": [],
   "source": []
  },
  {
   "cell_type": "code",
   "execution_count": 537,
   "id": "71f8b29b",
   "metadata": {},
   "outputs": [
    {
     "data": {
      "text/plain": [
       "Index(['ymd', 'dow', 'employees', 'dayoff', 'bustrip', 'overtime', 'remote',\n",
       "       'ln', 'rice', 'soup', 'side1', 'atoffice', 'y', 'm', 'y_encoded',\n",
       "       'm_encoded', 'dow_encoded', 'prev_ymd', 'prev_ln', 'prev_hol',\n",
       "       'next_hol', 'rice_ctg1', 'rice_c1', 'rice_c2', 'rice_c3', 'soup_c1',\n",
       "       'soup_c2', 'side1_c1', 'side1_c2'],\n",
       "      dtype='object')"
      ]
     },
     "execution_count": 537,
     "metadata": {},
     "output_type": "execute_result"
    }
   ],
   "source": [
    "train_ln.columns"
   ]
  },
  {
   "cell_type": "code",
   "execution_count": null,
   "id": "72f9bf59",
   "metadata": {},
   "outputs": [],
   "source": []
  },
  {
   "cell_type": "code",
   "execution_count": 540,
   "id": "23d6005e",
   "metadata": {},
   "outputs": [],
   "source": [
    "train = train_ln[['y_encoded', 'm_encoded', 'dow_encoded', \n",
    "                 'employees', 'dayoff', 'bustrip', 'overtime', 'remote', 'atoffice',\n",
    "                 'prev_hol', 'next_hol',\n",
    "                 'rice_ctg1', 'rice_c1', 'rice_c2', 'rice_c3',\n",
    "                 'soup_c1', 'soup_c2', 'side1_c1', 'side1_c2','ln']]"
   ]
  },
  {
   "cell_type": "code",
   "execution_count": 542,
   "id": "7a3267ff",
   "metadata": {},
   "outputs": [
    {
     "data": {
      "text/plain": [
       "0          0.0\n",
       "1          0.0\n",
       "2          0.0\n",
       "3          0.0\n",
       "4          0.0\n",
       "         ...  \n",
       "1200     913.0\n",
       "1201    1038.0\n",
       "1202     702.0\n",
       "1203    1277.0\n",
       "1204    1038.0\n",
       "Name: prev_ln, Length: 1205, dtype: float64"
      ]
     },
     "execution_count": 542,
     "metadata": {},
     "output_type": "execute_result"
    }
   ],
   "source": [
    "train_ln.prev_ln.fillna(0)"
   ]
  },
  {
   "cell_type": "code",
   "execution_count": null,
   "id": "74cdb40c",
   "metadata": {},
   "outputs": [],
   "source": []
  }
 ],
 "metadata": {
  "kernelspec": {
   "display_name": "Python 3",
   "language": "python",
   "name": "python3"
  },
  "language_info": {
   "codemirror_mode": {
    "name": "ipython",
    "version": 3
   },
   "file_extension": ".py",
   "mimetype": "text/x-python",
   "name": "python",
   "nbconvert_exporter": "python",
   "pygments_lexer": "ipython3",
   "version": "3.8.8"
  }
 },
 "nbformat": 4,
 "nbformat_minor": 5
}
