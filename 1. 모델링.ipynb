{
 "cells": [
  {
   "cell_type": "code",
   "execution_count": 1,
   "id": "97deeead",
   "metadata": {},
   "outputs": [],
   "source": [
    "import pandas as pd"
   ]
  },
  {
   "cell_type": "code",
   "execution_count": 22,
   "id": "0cbb2208",
   "metadata": {},
   "outputs": [],
   "source": [
    "import matplotlib\n",
    "import matplotlib.pyplot as plt\n",
    "%matplotlib inline\n",
    "plt.rc('font', family='NanumGothic')\n",
    "matplotlib.rcParams['axes.unicode_minus'] = False   # 마이너스 부호 깨짐"
   ]
  },
  {
   "cell_type": "markdown",
   "id": "5ab0fc6b",
   "metadata": {},
   "source": [
    "# 1. 데이터 가져오기"
   ]
  },
  {
   "cell_type": "code",
   "execution_count": 6,
   "id": "b1d378a4",
   "metadata": {},
   "outputs": [],
   "source": [
    "train_ln = pd.read_csv('./data/train_ln.csv',parse_dates=['ymd'])\n",
    "train_dn = pd.read_csv('./data/train_dn.csv',parse_dates=['ymd'])\n",
    "test_ln = pd.read_csv('./data/test_ln.csv',parse_dates=['ymd'])\n",
    "test_dn = pd.read_csv('./data/test_dn.csv',parse_dates=['ymd'])"
   ]
  },
  {
   "cell_type": "code",
   "execution_count": 7,
   "id": "a9271d06",
   "metadata": {},
   "outputs": [
    {
     "name": "stdout",
     "output_type": "stream",
     "text": [
      "train_ln.shape:  (1205, 17)\n",
      "train_dn.shape:  (1163, 16)\n",
      "test_ln.shape:  (50, 16)\n",
      "test_dn.shape:  (50, 15)\n"
     ]
    }
   ],
   "source": [
    "print('train_ln.shape: ',train_ln.shape)\n",
    "print('train_dn.shape: ',train_dn.shape)\n",
    "print('test_ln.shape: ',test_ln.shape)\n",
    "print('test_dn.shape: ',test_dn.shape)"
   ]
  },
  {
   "cell_type": "code",
   "execution_count": 8,
   "id": "a2761633",
   "metadata": {},
   "outputs": [
    {
     "data": {
      "text/plain": [
       "array(['쌀밥/잡곡밥', '카레덮밥', '낙지비빔밥', '쌀밥/오곡밥', '비빔밥', '곤드레밥', '콩나물밥',\n",
       "       '봄새싹비빔밥', '나물비빔밥', '단호박영양밥', '산채비빔밥', '낙지볶음밥', '열무비빔밥', '참치회덮밥',\n",
       "       '연복풍덮밥', '열무보리비빔밥', '불고기덮밥', '짜장밥', '버섯영양밥', '소불고기덮밥', '오곡밥',\n",
       "       '봄나물비빔밥', '카레라이스', '짜장덮밥', '찹쌀밥', '김치제육덮밥', '단호박카레라이스', '마파두부덮밥',\n",
       "       '쌀밥/옛날돈까스', '야채볶음밥', '김치볶음밥', '오므라이스', '김치볶음밥/계란', '파인애플볶음밥',\n",
       "       '김치필라프', '불고기비빔밥', '김밥볶음밥', '고기듬뿍카레라이스', '건강비빔밥', '새우날치알볶음밥',\n",
       "       '소고기콩나물밥', '닭살카레라이스', '열무보리비빔밥/강된장', '베이컨김치볶음밥', '돈육버섯고추장덮밥',\n",
       "       '쌀밥/흑미밥/찰현미밥', '쌀밥/치자밥/찰현미밥', '쌀밥/병아리콩밥/찰현미밥', '쌀밥/기장밥/찰현미밥',\n",
       "       '쌀밥/수수밥/찰현미밥', '쌀밥/검정콩밥/찰현미밥', '쌀밥/렌틸콩밥/찰현미밥', '쌀밥/차조밥/찰현미밥',\n",
       "       '쌀밥/보리밥/찰현미밥', '쌀밥/찰보리밥/찰현미밥', '계란채소볶음밥', '쌀밥/귀리밥/찰현미밥',\n",
       "       '쌀밥/병아리콩/찰현미밥', '쌀밥/곤드레밥/찰현미밥', '전주비빔밥', '쌀밥/완두콩밥/찰현미밥',\n",
       "       '쌀밥/강낭콩밥/찰현미밥', '바지락비빔밥', '쌀밥/팥밥/찰현미밥', '뿌리채소영양밥'], dtype=object)"
      ]
     },
     "execution_count": 8,
     "metadata": {},
     "output_type": "execute_result"
    }
   ],
   "source": [
    "train_ln.rice.unique()"
   ]
  },
  {
   "cell_type": "code",
   "execution_count": 39,
   "id": "f7e88207",
   "metadata": {},
   "outputs": [
    {
     "data": {
      "text/plain": [
       "rice\n",
       "바지락비빔밥          1188.0\n",
       "쌀밥/팥밥/찰현미밥      1059.0\n",
       "쌀밥/보리밥/찰현미밥     1049.5\n",
       "쌀밥/강낭콩밥/찰현미밥    1034.0\n",
       "봄새싹비빔밥          1033.0\n",
       "                 ...  \n",
       "김치볶음밥            543.0\n",
       "야채볶음밥            535.0\n",
       "돈육버섯고추장덮밥        516.0\n",
       "베이컨김치볶음밥         505.0\n",
       "파인애플볶음밥          387.0\n",
       "Name: ln, Length: 65, dtype: float64"
      ]
     },
     "execution_count": 39,
     "metadata": {},
     "output_type": "execute_result"
    }
   ],
   "source": [
    "train_ln.groupby('rice')['ln'].mean().sort_values(ascending=False)"
   ]
  },
  {
   "cell_type": "code",
   "execution_count": 13,
   "id": "2591d5d2",
   "metadata": {},
   "outputs": [
    {
     "data": {
      "text/plain": [
       "soup\n",
       "소고기떡국      1405.0\n",
       "들깨시락국      1363.0\n",
       "누룽지장각백숙    1329.0\n",
       "어묵매운탕      1292.0\n",
       "쇠고기느타리국    1272.0\n",
       "            ...  \n",
       "우무콩국        489.0\n",
       "감자양파국       481.0\n",
       "짜글이돼지찌개     477.0\n",
       "우묵냉국        462.0\n",
       "해물수제비국      450.0\n",
       "Name: ln, Length: 267, dtype: float64"
      ]
     },
     "execution_count": 13,
     "metadata": {},
     "output_type": "execute_result"
    }
   ],
   "source": [
    "train_ln.groupby('soup')['ln'].mean().sort_values(ascending=False)"
   ]
  },
  {
   "cell_type": "code",
   "execution_count": 10,
   "id": "a19e586f",
   "metadata": {},
   "outputs": [
    {
     "data": {
      "text/plain": [
       "side1\n",
       "가래떡돼지갈비찜      1417.0\n",
       "봉추찜닭          1405.0\n",
       "돈육볶음          1372.0\n",
       "캔꽁치튀김         1329.0\n",
       "삼겹살김치볶음       1317.0\n",
       "               ...  \n",
       "삼겹살더덕고추장구이     504.0\n",
       "살살치킨           477.0\n",
       "닭다리바베큐오븐구이     476.0\n",
       "고구마함박스테이크      462.0\n",
       "수제탕수육          459.0\n",
       "Name: ln, Length: 362, dtype: float64"
      ]
     },
     "execution_count": 10,
     "metadata": {},
     "output_type": "execute_result"
    }
   ],
   "source": [
    "train_ln.groupby('side1')['ln'].mean().sort_values(ascending=False)"
   ]
  },
  {
   "cell_type": "code",
   "execution_count": 11,
   "id": "09cba1f9",
   "metadata": {},
   "outputs": [
    {
     "data": {
      "text/plain": [
       "side2\n",
       "오미산적/동태전    1405.0\n",
       "쫄면채소무침      1329.0\n",
       "무쌈말이        1322.0\n",
       "감자전         1319.0\n",
       "호박꼬지        1298.0\n",
       "             ...  \n",
       "두릅소고기샐러드     450.0\n",
       "실곤약냉채        450.0\n",
       "적어양념장구이      398.0\n",
       "콘치즈오븐구이      387.0\n",
       "꽁치캔김치조림      358.0\n",
       "Name: ln, Length: 439, dtype: float64"
      ]
     },
     "execution_count": 11,
     "metadata": {},
     "output_type": "execute_result"
    }
   ],
   "source": [
    "train_ln.groupby('side2')['ln'].mean().sort_values(ascending=False)"
   ]
  }
 ],
 "metadata": {
  "kernelspec": {
   "display_name": "Python 3",
   "language": "python",
   "name": "python3"
  },
  "language_info": {
   "codemirror_mode": {
    "name": "ipython",
    "version": 3
   },
   "file_extension": ".py",
   "mimetype": "text/x-python",
   "name": "python",
   "nbconvert_exporter": "python",
   "pygments_lexer": "ipython3",
   "version": "3.8.8"
  }
 },
 "nbformat": 4,
 "nbformat_minor": 5
}
